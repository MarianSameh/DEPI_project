{
  "nbformat": 4,
  "nbformat_minor": 2,
  "metadata": {
    "language_info": {
      "name": "python"
    },
    "kernelspec": {
      "name": "synapse_pyspark",
      "display_name": "python"
    },
    "description": null,
    "save_output": true,
    "synapse_widget": {
      "version": "0.1",
      "state": {
        "8633a533-7e16-4960-bc80-c2bb7719e183": {
          "type": "Synapse.DataFrame",
          "sync_state": {
            "table": {
              "rows": [
                {
                  "0": "10107",
                  "1": "30",
                  "2": "95.7",
                  "3": "2",
                  "4": "2871",
                  "5": "2/24/2003 0:00",
                  "6": "Shipped",
                  "7": "1",
                  "8": "2",
                  "9": "2003",
                  "10": "1",
                  "11": "1",
                  "12": "Small"
                },
                {
                  "0": "10121",
                  "1": "34",
                  "2": "81.35",
                  "3": "5",
                  "4": "2765.9",
                  "5": "5/7/2003 0:00",
                  "6": "Shipped",
                  "7": "2",
                  "8": "5",
                  "9": "2003",
                  "10": "1",
                  "11": "2",
                  "12": "Small"
                },
                {
                  "0": "10134",
                  "1": "41",
                  "2": "94.74",
                  "3": "2",
                  "4": "3884.34",
                  "5": "7/1/2003 0:00",
                  "6": "Shipped",
                  "7": "3",
                  "8": "7",
                  "9": "2003",
                  "10": "1",
                  "11": "3",
                  "12": "Medium"
                },
                {
                  "0": "10145",
                  "1": "45",
                  "2": "83.26",
                  "3": "6",
                  "4": "3746.7",
                  "5": "8/25/2003 0:00",
                  "6": "Shipped",
                  "7": "3",
                  "8": "8",
                  "9": "2003",
                  "10": "1",
                  "11": "4",
                  "12": "Medium"
                },
                {
                  "0": "10159",
                  "1": "49",
                  "2": "100",
                  "3": "14",
                  "4": "5205.27",
                  "5": "10/10/2003 0:00",
                  "6": "Shipped",
                  "7": "4",
                  "8": "10",
                  "9": "2003",
                  "10": "1",
                  "11": "5",
                  "12": "Medium"
                },
                {
                  "0": "10168",
                  "1": "36",
                  "2": "96.66",
                  "3": "1",
                  "4": "3479.76",
                  "5": "10/28/2003 0:00",
                  "6": "Shipped",
                  "7": "4",
                  "8": "10",
                  "9": "2003",
                  "10": "1",
                  "11": "6",
                  "12": "Medium"
                },
                {
                  "0": "10180",
                  "1": "29",
                  "2": "86.13",
                  "3": "9",
                  "4": "2497.77",
                  "5": "11/11/2003 0:00",
                  "6": "Shipped",
                  "7": "4",
                  "8": "11",
                  "9": "2003",
                  "10": "1",
                  "11": "7",
                  "12": "Small"
                },
                {
                  "0": "10188",
                  "1": "48",
                  "2": "100",
                  "3": "1",
                  "4": "5512.32",
                  "5": "11/18/2003 0:00",
                  "6": "Shipped",
                  "7": "4",
                  "8": "11",
                  "9": "2003",
                  "10": "1",
                  "11": "8",
                  "12": "Medium"
                },
                {
                  "0": "10201",
                  "1": "22",
                  "2": "98.57",
                  "3": "2",
                  "4": "2168.54",
                  "5": "12/1/2003 0:00",
                  "6": "Shipped",
                  "7": "4",
                  "8": "12",
                  "9": "2003",
                  "10": "1",
                  "11": "9",
                  "12": "Small"
                },
                {
                  "0": "10211",
                  "1": "41",
                  "2": "100",
                  "3": "14",
                  "4": "4708.44",
                  "5": "1/15/2004 0:00",
                  "6": "Shipped",
                  "7": "1",
                  "8": "1",
                  "9": "2004",
                  "10": "1",
                  "11": "10",
                  "12": "Medium"
                }
              ],
              "schema": [
                {
                  "key": "0",
                  "name": "ORDERNUMBER",
                  "type": "string"
                },
                {
                  "key": "1",
                  "name": "QUANTITYORDERED",
                  "type": "string"
                },
                {
                  "key": "2",
                  "name": "PRICEEACH",
                  "type": "string"
                },
                {
                  "key": "3",
                  "name": "ORDERLINENUMBER",
                  "type": "string"
                },
                {
                  "key": "4",
                  "name": "SALES",
                  "type": "string"
                },
                {
                  "key": "5",
                  "name": "ORDERDATE",
                  "type": "string"
                },
                {
                  "key": "6",
                  "name": "STATUS",
                  "type": "string"
                },
                {
                  "key": "7",
                  "name": "QTR_ID",
                  "type": "string"
                },
                {
                  "key": "8",
                  "name": "MONTH_ID",
                  "type": "string"
                },
                {
                  "key": "9",
                  "name": "YEAR_ID",
                  "type": "string"
                },
                {
                  "key": "10",
                  "name": "PRODUCT_ID",
                  "type": "string"
                },
                {
                  "key": "11",
                  "name": "CUSTOMER_ID",
                  "type": "string"
                },
                {
                  "key": "12",
                  "name": "DEALSIZE",
                  "type": "string"
                }
              ],
              "truncated": false
            },
            "isSummary": false,
            "language": "scala",
            "wranglerEntryContext": {
              "dataframeType": "pyspark"
            }
          },
          "persist_state": {
            "view": {
              "type": "details",
              "tableOptions": {},
              "chartOptions": {
                "chartType": "bar",
                "aggregationType": "count",
                "categoryFieldKeys": [
                  "0"
                ],
                "seriesFieldKeys": [
                  "0"
                ],
                "isStacked": false
              }
            }
          }
        }
      }
    }
  },
  "cells": [
    {
      "cell_type": "code",
      "execution_count": 15,
      "outputs": [
        {
          "output_type": "display_data",
          "data": {
            "application/vnd.livy.statement-meta+json": {
              "spark_pool": "sparkes",
              "statement_id": 16,
              "statement_ids": [
                16
              ],
              "state": "finished",
              "livy_statement_state": "available",
              "spark_jobs": null,
              "session_id": "0",
              "normalized_state": "finished",
              "queued_time": "2024-10-14T07:02:23.8507752Z",
              "session_start_time": null,
              "execution_start_time": "2024-10-14T07:02:24.0519107Z",
              "execution_finish_time": "2024-10-14T07:02:26.0410972Z",
              "parent_msg_id": "b69d485d-434b-4ccf-b84f-ea2f64e75bbf"
            },
            "text/plain": "StatementMeta(sparkes, 0, 16, Finished, Available, Finished)"
          },
          "metadata": {}
        },
        {
          "output_type": "display_data",
          "data": {
            "application/vnd.synapse.widget-view+json": {
              "widget_id": "8633a533-7e16-4960-bc80-c2bb7719e183",
              "widget_type": "Synapse.DataFrame"
            },
            "text/plain": "SynapseWidget(Synapse.DataFrame, 8633a533-7e16-4960-bc80-c2bb7719e183)"
          },
          "metadata": {}
        }
      ],
      "metadata": {
        "microsoft": {
          "language": "python"
        },
        "collapsed": false
      },
      "source": [
        "%%pyspark\r\n",
        "df = spark.read.load('abfss://fille@lakez.dfs.core.windows.net/salesproject/sales.csv', format='csv'\r\n",
        "## If header exists uncomment line below\r\n",
        ",header=True\r\n",
        ")\r\n",
        "display(df.limit(10))"
      ]
    },
    {
      "cell_type": "code",
      "execution_count": 2,
      "outputs": [
        {
          "output_type": "display_data",
          "data": {
            "application/vnd.livy.statement-meta+json": {
              "spark_pool": "sparkes",
              "statement_id": 3,
              "statement_ids": [
                3
              ],
              "state": "finished",
              "livy_statement_state": "available",
              "spark_jobs": null,
              "session_id": "0",
              "normalized_state": "finished",
              "queued_time": "2024-10-14T06:43:01.3145165Z",
              "session_start_time": null,
              "execution_start_time": "2024-10-14T06:43:02.1263918Z",
              "execution_finish_time": "2024-10-14T06:43:47.8628298Z",
              "parent_msg_id": "95e725c2-6601-44ba-b496-a2f42f7aa706"
            },
            "text/plain": "StatementMeta(sparkes, 0, 3, Finished, Available, Finished)"
          },
          "metadata": {}
        },
        {
          "output_type": "stream",
          "name": "stdout",
          "text": [
            "Collecting mlflow\n  Downloading mlflow-2.17.0-py3-none-any.whl (26.7 MB)\n\u001b[2K     \u001b[90m━━━━━━━━━━━━━━━━━━━━━━━━━━━━━━━━━━━━━━━━\u001b[0m \u001b[32m26.7/26.7 MB\u001b[0m \u001b[31m75.0 MB/s\u001b[0m eta \u001b[36m0:00:00\u001b[0m00:01\u001b[0m00:01\u001b[0m\n\u001b[?25hCollecting azureml-sdk\n  Downloading azureml_sdk-1.57.0-py3-none-any.whl (2.7 kB)\nRequirement already satisfied: scikit-learn in /home/trusted-service-user/cluster-env/env/lib/python3.10/site-packages (1.3.2)\nCollecting mlflow-skinny==2.17.0 (from mlflow)\n  Downloading mlflow_skinny-2.17.0-py3-none-any.whl (5.7 MB)\n\u001b[2K     \u001b[90m━━━━━━━━━━━━━━━━━━━━━━━━━━━━━━━━━━━━━━━━\u001b[0m \u001b[32m5.7/5.7 MB\u001b[0m \u001b[31m120.6 MB/s\u001b[0m eta \u001b[36m0:00:00\u001b[0m00:01\u001b[0m\n\u001b[?25hRequirement already satisfied: Flask<4 in /home/trusted-service-user/cluster-env/env/lib/python3.10/site-packages (from mlflow) (3.0.2)\nCollecting alembic!=1.10.0,<2 (from mlflow)\n  Downloading alembic-1.13.3-py3-none-any.whl (233 kB)\n\u001b[2K     \u001b[90m━━━━━━━━━━━━━━━━━━━━━━━━━━━━━━━━━━━━━━\u001b[0m \u001b[32m233.2/233.2 kB\u001b[0m \u001b[31m59.2 MB/s\u001b[0m eta \u001b[36m0:00:00\u001b[0m\n\u001b[?25hRequirement already satisfied: docker<8,>=4.0.0 in /home/trusted-service-user/cluster-env/env/lib/python3.10/site-packages (from mlflow) (7.0.0)\nCollecting graphene<4 (from mlflow)\n  Downloading graphene-3.3-py2.py3-none-any.whl (128 kB)\n\u001b[2K     \u001b[90m━━━━━━━━━━━━━━━━━━━━━━━━━━━━━━━━━━━━━━\u001b[0m \u001b[32m128.2/128.2 kB\u001b[0m \u001b[31m37.2 MB/s\u001b[0m eta \u001b[36m0:00:00\u001b[0m\n\u001b[?25hRequirement already satisfied: markdown<4,>=3.3 in /home/trusted-service-user/cluster-env/env/lib/python3.10/site-packages (from mlflow) (3.5.1)\nRequirement already satisfied: matplotlib<4 in /home/trusted-service-user/cluster-env/env/lib/python3.10/site-packages (from mlflow) (3.8.2)\nRequirement already satisfied: numpy<3 in /home/trusted-service-user/cluster-env/env/lib/python3.10/site-packages (from mlflow) (1.23.5)\nRequirement already satisfied: pandas<3 in /home/trusted-service-user/cluster-env/env/lib/python3.10/site-packages (from mlflow) (1.5.3)\nRequirement already satisfied: pyarrow<18,>=4.0.0 in /home/trusted-service-user/cluster-env/env/lib/python3.10/site-packages (from mlflow) (14.0.2)\nRequirement already satisfied: scipy<2 in /home/trusted-service-user/cluster-env/env/lib/python3.10/site-packages (from mlflow) (1.11.4)\nRequirement already satisfied: sqlalchemy<3,>=1.4.0 in /home/trusted-service-user/cluster-env/env/lib/python3.10/site-packages (from mlflow) (2.0.28)\nRequirement already satisfied: Jinja2<4,>=2.11 in /home/trusted-service-user/cluster-env/env/lib/python3.10/site-packages (from mlflow) (3.1.3)\nCollecting gunicorn<24 (from mlflow)\n  Downloading gunicorn-23.0.0-py3-none-any.whl (85 kB)\n\u001b[2K     \u001b[90m━━━━━━━━━━━━━━━━━━━━━━━━━━━━━━━━━━━━━━━━\u001b[0m \u001b[32m85.0/85.0 kB\u001b[0m \u001b[31m18.8 MB/s\u001b[0m eta \u001b[36m0:00:00\u001b[0m\n\u001b[?25hRequirement already satisfied: cachetools<6,>=5.0.0 in /home/trusted-service-user/cluster-env/env/lib/python3.10/site-packages (from mlflow-skinny==2.17.0->mlflow) (5.3.3)\nRequirement already satisfied: click<9,>=7.0 in /home/trusted-service-user/cluster-env/env/lib/python3.10/site-packages (from mlflow-skinny==2.17.0->mlflow) (8.1.7)\nRequirement already satisfied: cloudpickle<4 in /home/trusted-service-user/cluster-env/env/lib/python3.10/site-packages (from mlflow-skinny==2.17.0->mlflow) (2.2.1)\nCollecting databricks-sdk<1,>=0.20.0 (from mlflow-skinny==2.17.0->mlflow)\n  Downloading databricks_sdk-0.34.0-py3-none-any.whl (565 kB)\n\u001b[2K     \u001b[90m━━━━━━━━━━━━━━━━━━━━━━━━━━━━━━━━━━━━━━\u001b[0m \u001b[32m565.6/565.6 kB\u001b[0m \u001b[31m92.5 MB/s\u001b[0m eta \u001b[36m0:00:00\u001b[0m\n\u001b[?25hRequirement already satisfied: gitpython<4,>=3.1.9 in /home/trusted-service-user/cluster-env/env/lib/python3.10/site-packages (from mlflow-skinny==2.17.0->mlflow) (3.1.42)\nRequirement already satisfied: importlib-metadata!=4.7.0,<9,>=3.7.0 in /home/trusted-service-user/cluster-env/env/lib/python3.10/site-packages (from mlflow-skinny==2.17.0->mlflow) (7.0.2)\nCollecting opentelemetry-api<3,>=1.9.0 (from mlflow-skinny==2.17.0->mlflow)\n  Downloading opentelemetry_api-1.27.0-py3-none-any.whl (63 kB)\n\u001b[2K     \u001b[90m━━━━━━━━━━━━━━━━━━━━━━━━━━━━━━━━━━━━━━━━\u001b[0m \u001b[32m64.0/64.0 kB\u001b[0m \u001b[31m21.6 MB/s\u001b[0m eta \u001b[36m0:00:00\u001b[0m\n\u001b[?25hCollecting opentelemetry-sdk<3,>=1.9.0 (from mlflow-skinny==2.17.0->mlflow)\n  Downloading opentelemetry_sdk-1.27.0-py3-none-any.whl (110 kB)\n\u001b[2K     \u001b[90m━━━━━━━━━━━━━━━━━━━━━━━━━━━━━━━━━━━━━━\u001b[0m \u001b[32m110.5/110.5 kB\u001b[0m \u001b[31m30.2 MB/s\u001b[0m eta \u001b[36m0:00:00\u001b[0m\n\u001b[?25hRequirement already satisfied: packaging<25 in /home/trusted-service-user/cluster-env/env/lib/python3.10/site-packages (from mlflow-skinny==2.17.0->mlflow) (23.2)\nRequirement already satisfied: protobuf<6,>=3.12.0 in /home/trusted-service-user/cluster-env/env/lib/python3.10/site-packages (from mlflow-skinny==2.17.0->mlflow) (4.24.4)\nRequirement already satisfied: pyyaml<7,>=5.1 in /home/trusted-service-user/cluster-env/env/lib/python3.10/site-packages (from mlflow-skinny==2.17.0->mlflow) (6.0.1)\nRequirement already satisfied: requests<3,>=2.17.3 in /home/trusted-service-user/cluster-env/env/lib/python3.10/site-packages (from mlflow-skinny==2.17.0->mlflow) (2.31.0)\nRequirement already satisfied: sqlparse<1,>=0.4.0 in /home/trusted-service-user/cluster-env/env/lib/python3.10/site-packages (from mlflow-skinny==2.17.0->mlflow) (0.4.4)\nCollecting azureml-core~=1.57.0 (from azureml-sdk)\n  Downloading azureml_core-1.57.0.post3-py3-none-any.whl (3.3 MB)\n\u001b[2K     \u001b[90m━━━━━━━━━━━━━━━━━━━━━━━━━━━━━━━━━━━━━━━━\u001b[0m \u001b[32m3.3/3.3 MB\u001b[0m \u001b[31m134.8 MB/s\u001b[0m eta \u001b[36m0:00:00\u001b[0m\n\u001b[?25hCollecting azureml-dataset-runtime[fuse]~=1.57.0 (from azureml-sdk)\n  Downloading azureml_dataset_runtime-1.57.0-py3-none-any.whl (2.2 kB)\nCollecting azureml-train-core~=1.57.0 (from azureml-sdk)\n  Downloading azureml_train_core-1.57.0-py3-none-any.whl (8.6 MB)\n\u001b[2K     \u001b[90m━━━━━━━━━━━━━━━━━━━━━━━━━━━━━━━━━━━━━━━━\u001b[0m \u001b[32m8.6/8.6 MB\u001b[0m \u001b[31m117.2 MB/s\u001b[0m eta \u001b[36m0:00:00\u001b[0m00:01\u001b[0m00:01\u001b[0m\n\u001b[?25hCollecting azureml-train-automl-client~=1.57.0 (from azureml-sdk)\n  Downloading azureml_train_automl_client-1.57.0-py3-none-any.whl (137 kB)\n\u001b[2K     \u001b[90m━━━━━━━━━━━━━━━━━━━━━━━━━━━━━━━━━━━━━━\u001b[0m \u001b[32m137.6/137.6 kB\u001b[0m \u001b[31m19.7 MB/s\u001b[0m eta \u001b[36m0:00:00\u001b[0m\n\u001b[?25hCollecting azureml-pipeline~=1.57.0 (from azureml-sdk)\n  Downloading azureml_pipeline-1.57.0-py3-none-any.whl (2.4 kB)\nRequirement already satisfied: joblib>=1.1.1 in /home/trusted-service-user/cluster-env/env/lib/python3.10/site-packages (from scikit-learn) (1.3.2)\nRequirement already satisfied: threadpoolctl>=2.0.0 in /home/trusted-service-user/cluster-env/env/lib/python3.10/site-packages (from scikit-learn) (3.3.0)\nCollecting Mako (from alembic!=1.10.0,<2->mlflow)\n  Downloading Mako-1.3.5-py3-none-any.whl (78 kB)\n\u001b[2K     \u001b[90m━━━━━━━━━━━━━━━━━━━━━━━━━━━━━━━━━━━━━━━━\u001b[0m \u001b[32m78.6/78.6 kB\u001b[0m \u001b[31m16.9 MB/s\u001b[0m eta \u001b[36m0:00:00\u001b[0m\n\u001b[?25hRequirement already satisfied: typing-extensions>=4 in /home/trusted-service-user/cluster-env/env/lib/python3.10/site-packages (from alembic!=1.10.0,<2->mlflow) (4.10.0)\nRequirement already satisfied: pytz in /home/trusted-service-user/cluster-env/env/lib/python3.10/site-packages (from azureml-core~=1.57.0->azureml-sdk) (2023.4)\nRequirement already satisfied: backports.tempfile in /home/trusted-service-user/cluster-env/env/lib/python3.10/site-packages (from azureml-core~=1.57.0->azureml-sdk) (1.0)\nRequirement already satisfied: pathspec<1.0.0 in /home/trusted-service-user/cluster-env/env/lib/python3.10/site-packages (from azureml-core~=1.57.0->azureml-sdk) (0.12.1)\nRequirement already satisfied: msal<2.0.0,>=1.15.0 in /home/trusted-service-user/cluster-env/env/lib/python3.10/site-packages (from azureml-core~=1.57.0->azureml-sdk) (1.27.0)\nRequirement already satisfied: msal-extensions<=2.0.0,>=0.3.0 in /home/trusted-service-user/cluster-env/env/lib/python3.10/site-packages (from azureml-core~=1.57.0->azureml-sdk) (1.1.0)\nRequirement already satisfied: knack<0.12.0 in /home/trusted-service-user/cluster-env/env/lib/python3.10/site-packages (from azureml-core~=1.57.0->azureml-sdk) (0.11.0)\nRequirement already satisfied: azure-core<2.0.0 in /home/trusted-service-user/cluster-env/env/lib/python3.10/site-packages (from azureml-core~=1.57.0->azureml-sdk) (1.30.1)\nRequirement already satisfied: pkginfo in /home/trusted-service-user/cluster-env/env/lib/python3.10/site-packages (from azureml-core~=1.57.0->azureml-sdk) (1.10.0)\nRequirement already satisfied: argcomplete<4 in /home/trusted-service-user/cluster-env/env/lib/python3.10/site-packages (from azureml-core~=1.57.0->azureml-sdk) (3.2.3)\nRequirement already satisfied: humanfriendly<11.0,>=4.7 in /home/trusted-service-user/cluster-env/env/lib/python3.10/site-packages (from azureml-core~=1.57.0->azureml-sdk) (10.0)\nRequirement already satisfied: paramiko<4.0.0,>=2.0.8 in /home/trusted-service-user/cluster-env/env/lib/python3.10/site-packages (from azureml-core~=1.57.0->azureml-sdk) (3.4.0)\nRequirement already satisfied: azure-mgmt-resource<=24.0.0,>=15.0.0 in /home/trusted-service-user/cluster-env/env/lib/python3.10/site-packages (from azureml-core~=1.57.0->azureml-sdk) (23.0.1)\nRequirement already satisfied: azure-mgmt-containerregistry<11,>=8.2.0 in /home/trusted-service-user/cluster-env/env/lib/python3.10/site-packages (from azureml-core~=1.57.0->azureml-sdk) (10.3.0)\nRequirement already satisfied: azure-mgmt-storage<=22.0.0,>=16.0.0 in /home/trusted-service-user/cluster-env/env/lib/python3.10/site-packages (from azureml-core~=1.57.0->azureml-sdk) (21.1.0)\nRequirement already satisfied: azure-mgmt-keyvault<11.0.0,>=0.40.0 in /home/trusted-service-user/cluster-env/env/lib/python3.10/site-packages (from azureml-core~=1.57.0->azureml-sdk) (10.3.0)\nRequirement already satisfied: azure-mgmt-authorization<5,>=0.40.0 in /home/trusted-service-user/cluster-env/env/lib/python3.10/site-packages (from azureml-core~=1.57.0->azureml-sdk) (4.0.0)\nRequirement already satisfied: azure-mgmt-network<=26.0.0 in /home/trusted-service-user/cluster-env/env/lib/python3.10/site-packages (from azureml-core~=1.57.0->azureml-sdk) (25.2.0)\nRequirement already satisfied: azure-graphrbac<1.0.0,>=0.40.0 in /home/trusted-service-user/cluster-env/env/lib/python3.10/site-packages (from azureml-core~=1.57.0->azureml-sdk) (0.61.1)\nRequirement already satisfied: azure-common<2.0.0,>=1.1.12 in /home/trusted-service-user/cluster-env/env/lib/python3.10/site-packages (from azureml-core~=1.57.0->azureml-sdk) (1.1.28)\nRequirement already satisfied: msrest<=0.7.1,>=0.5.1 in /home/trusted-service-user/cluster-env/env/lib/python3.10/site-packages (from azureml-core~=1.57.0->azureml-sdk) (0.7.1)\nRequirement already satisfied: msrestazure<=0.7,>=0.4.33 in /home/trusted-service-user/cluster-env/env/lib/python3.10/site-packages (from azureml-core~=1.57.0->azureml-sdk) (0.6.4)\nRequirement already satisfied: urllib3<3.0.0,>1.26.17 in /home/trusted-service-user/cluster-env/env/lib/python3.10/site-packages (from azureml-core~=1.57.0->azureml-sdk) (2.1.0)\nRequirement already satisfied: python-dateutil<3.0.0,>=2.7.3 in /home/trusted-service-user/cluster-env/env/lib/python3.10/site-packages (from azureml-core~=1.57.0->azureml-sdk) (2.9.0)\nRequirement already satisfied: ndg-httpsclient<=0.5.1 in /home/trusted-service-user/cluster-env/env/lib/python3.10/site-packages (from azureml-core~=1.57.0->azureml-sdk) (0.5.1)\nRequirement already satisfied: SecretStorage<4.0.0 in /home/trusted-service-user/cluster-env/env/lib/python3.10/site-packages (from azureml-core~=1.57.0->azureml-sdk) (3.3.3)\nRequirement already satisfied: jsonpickle<4.0.0 in /home/trusted-service-user/cluster-env/env/lib/python3.10/site-packages (from azureml-core~=1.57.0->azureml-sdk) (3.0.3)\nRequirement already satisfied: contextlib2<22.0.0 in /home/trusted-service-user/cluster-env/env/lib/python3.10/site-packages (from azureml-core~=1.57.0->azureml-sdk) (21.6.0)\nRequirement already satisfied: PyJWT<3.0.0 in /home/trusted-service-user/cluster-env/env/lib/python3.10/site-packages (from azureml-core~=1.57.0->azureml-sdk) (2.8.0)\nRequirement already satisfied: adal<=1.2.7,>=1.2.0 in /home/trusted-service-user/cluster-env/env/lib/python3.10/site-packages (from azureml-core~=1.57.0->azureml-sdk) (1.2.7)\nRequirement already satisfied: pyopenssl<25.0.0 in /home/trusted-service-user/cluster-env/env/lib/python3.10/site-packages (from azureml-core~=1.57.0->azureml-sdk) (23.3.0)\nRequirement already satisfied: jmespath<2.0.0 in /home/trusted-service-user/cluster-env/env/lib/python3.10/site-packages (from azureml-core~=1.57.0->azureml-sdk) (1.0.1)\nRequirement already satisfied: azureml-dataprep<5.2.0a,>=5.1.0a in /home/trusted-service-user/cluster-env/env/lib/python3.10/site-packages (from azureml-dataset-runtime[fuse]~=1.57.0->azureml-sdk) (5.1.6)\nRequirement already satisfied: fusepy<4.0.0,>=3.0.1 in /home/trusted-service-user/cluster-env/env/lib/python3.10/site-packages (from azureml-dataset-runtime[fuse]~=1.57.0->azureml-sdk) (3.0.1)\nCollecting azureml-pipeline-core~=1.57.0 (from azureml-pipeline~=1.57.0->azureml-sdk)\n  Downloading azureml_pipeline_core-1.57.0-py3-none-any.whl (313 kB)\n\u001b[2K     \u001b[90m━━━━━━━━━━━━━━━━━━━━━━━━━━━━━━━━━━━━━━\u001b[0m \u001b[32m313.7/313.7 kB\u001b[0m \u001b[31m63.4 MB/s\u001b[0m eta \u001b[36m0:00:00\u001b[0m\n\u001b[?25hCollecting azureml-pipeline-steps~=1.57.0 (from azureml-pipeline~=1.57.0->azureml-sdk)\n  Downloading azureml_pipeline_steps-1.57.0-py3-none-any.whl (69 kB)\n\u001b[2K     \u001b[90m━━━━━━━━━━━━━━━━━━━━━━━━━━━━━━━━━━━━━━━━\u001b[0m \u001b[32m69.6/69.6 kB\u001b[0m \u001b[31m21.4 MB/s\u001b[0m eta \u001b[36m0:00:00\u001b[0m\n\u001b[?25hCollecting azureml-automl-core~=1.57.0 (from azureml-train-automl-client~=1.57.0->azureml-sdk)\n  Downloading azureml_automl_core-1.57.0-py3-none-any.whl (249 kB)\n\u001b[2K     \u001b[90m━━━━━━━━━━━━━━━━━━━━━━━━━━━━━━━━━━━━━━\u001b[0m \u001b[32m249.6/249.6 kB\u001b[0m \u001b[31m56.4 MB/s\u001b[0m eta \u001b[36m0:00:00\u001b[0m\n\u001b[?25hCollecting azureml-telemetry~=1.57.0 (from azureml-train-automl-client~=1.57.0->azureml-sdk)\n  Downloading azureml_telemetry-1.57.0-py3-none-any.whl (30 kB)\nCollecting azureml-train-restclients-hyperdrive~=1.57.0 (from azureml-train-core~=1.57.0->azureml-sdk)\n  Downloading azureml_train_restclients_hyperdrive-1.57.0-py3-none-any.whl (18 kB)\nRequirement already satisfied: Werkzeug>=3.0.0 in /home/trusted-service-user/cluster-env/env/lib/python3.10/site-packages (from Flask<4->mlflow) (3.0.1)\nRequirement already satisfied: itsdangerous>=2.1.2 in /home/trusted-service-user/cluster-env/env/lib/python3.10/site-packages (from Flask<4->mlflow) (2.1.2)\nRequirement already satisfied: blinker>=1.6.2 in /home/trusted-service-user/cluster-env/env/lib/python3.10/site-packages (from Flask<4->mlflow) (1.7.0)\nCollecting graphql-core<3.3,>=3.1 (from graphene<4->mlflow)\n  Downloading graphql_core-3.2.5-py3-none-any.whl (203 kB)\n\u001b[2K     \u001b[90m━━━━━━━━━━━━━━━━━━━━━━━━━━━━━━━━━━━━━━\u001b[0m \u001b[32m203.2/203.2 kB\u001b[0m \u001b[31m50.4 MB/s\u001b[0m eta \u001b[36m0:00:00\u001b[0m\n\u001b[?25hCollecting graphql-relay<3.3,>=3.1 (from graphene<4->mlflow)\n  Downloading graphql_relay-3.2.0-py3-none-any.whl (16 kB)\nCollecting aniso8601<10,>=8 (from graphene<4->mlflow)\n  Downloading aniso8601-9.0.1-py2.py3-none-any.whl (52 kB)\n\u001b[2K     \u001b[90m━━━━━━━━━━━━━━━━━━━━━━━━━━━━━━━━━━━━━━━━\u001b[0m \u001b[32m52.8/52.8 kB\u001b[0m \u001b[31m17.4 MB/s\u001b[0m eta \u001b[36m0:00:00\u001b[0m\n\u001b[?25hRequirement already satisfied: MarkupSafe>=2.0 in /home/trusted-service-user/cluster-env/env/lib/python3.10/site-packages (from Jinja2<4,>=2.11->mlflow) (2.1.5)\nRequirement already satisfied: contourpy>=1.0.1 in /home/trusted-service-user/cluster-env/env/lib/python3.10/site-packages (from matplotlib<4->mlflow) (1.2.0)\nRequirement already satisfied: cycler>=0.10 in /home/trusted-service-user/cluster-env/env/lib/python3.10/site-packages (from matplotlib<4->mlflow) (0.12.1)\nRequirement already satisfied: fonttools>=4.22.0 in /home/trusted-service-user/cluster-env/env/lib/python3.10/site-packages (from matplotlib<4->mlflow) (4.49.0)\nRequirement already satisfied: kiwisolver>=1.3.1 in /home/trusted-service-user/cluster-env/env/lib/python3.10/site-packages (from matplotlib<4->mlflow) (1.4.5)\nRequirement already satisfied: pillow>=8 in /home/trusted-service-user/cluster-env/env/lib/python3.10/site-packages (from matplotlib<4->mlflow) (10.2.0)\nRequirement already satisfied: pyparsing>=2.3.1 in /home/trusted-service-user/cluster-env/env/lib/python3.10/site-packages (from matplotlib<4->mlflow) (3.1.2)\nRequirement already satisfied: greenlet!=0.4.17 in /home/trusted-service-user/cluster-env/env/lib/python3.10/site-packages (from sqlalchemy<3,>=1.4.0->mlflow) (3.0.3)\nRequirement already satisfied: cryptography>=1.1.0 in /home/trusted-service-user/cluster-env/env/lib/python3.10/site-packages (from adal<=1.2.7,>=1.2.0->azureml-core~=1.57.0->azureml-sdk) (41.0.7)\nRequirement already satisfied: six>=1.11.0 in /home/trusted-service-user/cluster-env/env/lib/python3.10/site-packages (from azure-core<2.0.0->azureml-core~=1.57.0->azureml-sdk) (1.16.0)\nRequirement already satisfied: isodate<1.0.0,>=0.6.1 in /home/trusted-service-user/cluster-env/env/lib/python3.10/site-packages (from azure-mgmt-authorization<5,>=0.40.0->azureml-core~=1.57.0->azureml-sdk) (0.6.1)\nRequirement already satisfied: azure-mgmt-core<2.0.0,>=1.3.2 in /home/trusted-service-user/cluster-env/env/lib/python3.10/site-packages (from azure-mgmt-authorization<5,>=0.40.0->azureml-core~=1.57.0->azureml-sdk) (1.4.0)\nRequirement already satisfied: importlib-resources<=6.4.0 in /home/trusted-service-user/cluster-env/env/lib/python3.10/site-packages (from azureml-automl-core~=1.57.0->azureml-train-automl-client~=1.57.0->azureml-sdk) (6.3.0)\nRequirement already satisfied: azureml-dataprep-native<42.0.0,>=41.0.0 in /home/trusted-service-user/cluster-env/env/lib/python3.10/site-packages (from azureml-dataprep<5.2.0a,>=5.1.0a->azureml-dataset-runtime[fuse]~=1.57.0->azureml-sdk) (41.0.0)\nRequirement already satisfied: azureml-dataprep-rslex~=2.22.2dev0 in /home/trusted-service-user/cluster-env/env/lib/python3.10/site-packages (from azureml-dataprep<5.2.0a,>=5.1.0a->azureml-dataset-runtime[fuse]~=1.57.0->azureml-sdk) (2.22.2)\nRequirement already satisfied: azure-identity>=1.7.0 in /home/trusted-service-user/cluster-env/env/lib/python3.10/site-packages (from azureml-dataprep<5.2.0a,>=5.1.0a->azureml-dataset-runtime[fuse]~=1.57.0->azureml-sdk) (1.15.0)\nRequirement already satisfied: jsonschema in /home/trusted-service-user/cluster-env/env/lib/python3.10/site-packages (from azureml-dataprep<5.2.0a,>=5.1.0a->azureml-dataset-runtime[fuse]~=1.57.0->azureml-sdk) (4.21.1)\nRequirement already satisfied: applicationinsights in /home/trusted-service-user/cluster-env/env/lib/python3.10/site-packages (from azureml-telemetry~=1.57.0->azureml-train-automl-client~=1.57.0->azureml-sdk) (0.11.10)\nRequirement already satisfied: google-auth~=2.0 in /home/trusted-service-user/cluster-env/env/lib/python3.10/site-packages (from databricks-sdk<1,>=0.20.0->mlflow-skinny==2.17.0->mlflow) (2.28.2)\nRequirement already satisfied: gitdb<5,>=4.0.1 in /home/trusted-service-user/cluster-env/env/lib/python3.10/site-packages (from gitpython<4,>=3.1.9->mlflow-skinny==2.17.0->mlflow) (4.0.11)\nRequirement already satisfied: zipp>=0.5 in /home/trusted-service-user/cluster-env/env/lib/python3.10/site-packages (from importlib-metadata!=4.7.0,<9,>=3.7.0->mlflow-skinny==2.17.0->mlflow) (3.17.0)\nRequirement already satisfied: pygments in /home/trusted-service-user/cluster-env/env/lib/python3.10/site-packages (from knack<0.12.0->azureml-core~=1.57.0->azureml-sdk) (2.17.2)\nRequirement already satisfied: tabulate in /home/trusted-service-user/cluster-env/env/lib/python3.10/site-packages (from knack<0.12.0->azureml-core~=1.57.0->azureml-sdk) (0.9.0)\nRequirement already satisfied: portalocker<3,>=1.0 in /home/trusted-service-user/cluster-env/env/lib/python3.10/site-packages (from msal-extensions<=2.0.0,>=0.3.0->azureml-core~=1.57.0->azureml-sdk) (2.8.2)\nRequirement already satisfied: requests-oauthlib>=0.5.0 in /home/trusted-service-user/cluster-env/env/lib/python3.10/site-packages (from msrest<=0.7.1,>=0.5.1->azureml-core~=1.57.0->azureml-sdk) (1.4.0)\nRequirement already satisfied: certifi>=2017.4.17 in /home/trusted-service-user/cluster-env/env/lib/python3.10/site-packages (from msrest<=0.7.1,>=0.5.1->azureml-core~=1.57.0->azureml-sdk) (2024.2.2)\nRequirement already satisfied: pyasn1>=0.1.1 in /home/trusted-service-user/cluster-env/env/lib/python3.10/site-packages (from ndg-httpsclient<=0.5.1->azureml-core~=1.57.0->azureml-sdk) (0.5.1)\nCollecting deprecated>=1.2.6 (from opentelemetry-api<3,>=1.9.0->mlflow-skinny==2.17.0->mlflow)\n  Downloading Deprecated-1.2.14-py2.py3-none-any.whl (9.6 kB)\nCollecting opentelemetry-semantic-conventions==0.48b0 (from opentelemetry-sdk<3,>=1.9.0->mlflow-skinny==2.17.0->mlflow)\n  Downloading opentelemetry_semantic_conventions-0.48b0-py3-none-any.whl (149 kB)\n\u001b[2K     \u001b[90m━━━━━━━━━━━━━━━━━━━━━━━━━━━━━━━━━━━━━━\u001b[0m \u001b[32m149.7/149.7 kB\u001b[0m \u001b[31m43.7 MB/s\u001b[0m eta \u001b[36m0:00:00\u001b[0m\n\u001b[?25hRequirement already satisfied: bcrypt>=3.2 in /home/trusted-service-user/cluster-env/env/lib/python3.10/site-packages (from paramiko<4.0.0,>=2.0.8->azureml-core~=1.57.0->azureml-sdk) (4.1.2)\nRequirement already satisfied: pynacl>=1.5 in /home/trusted-service-user/cluster-env/env/lib/python3.10/site-packages (from paramiko<4.0.0,>=2.0.8->azureml-core~=1.57.0->azureml-sdk) (1.5.0)\nRequirement already satisfied: charset-normalizer<4,>=2 in /home/trusted-service-user/cluster-env/env/lib/python3.10/site-packages (from requests<3,>=2.17.3->mlflow-skinny==2.17.0->mlflow) (3.3.2)\nRequirement already satisfied: idna<4,>=2.5 in /home/trusted-service-user/cluster-env/env/lib/python3.10/site-packages (from requests<3,>=2.17.3->mlflow-skinny==2.17.0->mlflow) (3.6)\nRequirement already satisfied: PySocks!=1.5.7,>=1.5.6 in /home/trusted-service-user/cluster-env/env/lib/python3.10/site-packages (from requests<3,>=2.17.3->mlflow-skinny==2.17.0->mlflow) (1.7.1)\nRequirement already satisfied: jeepney>=0.6 in /home/trusted-service-user/cluster-env/env/lib/python3.10/site-packages (from SecretStorage<4.0.0->azureml-core~=1.57.0->azureml-sdk) (0.8.0)\nRequirement already satisfied: backports.weakref in /home/trusted-service-user/cluster-env/env/lib/python3.10/site-packages (from backports.tempfile->azureml-core~=1.57.0->azureml-sdk) (1.0.post1)\nRequirement already satisfied: cffi>=1.12 in /home/trusted-service-user/cluster-env/env/lib/python3.10/site-packages (from cryptography>=1.1.0->adal<=1.2.7,>=1.2.0->azureml-core~=1.57.0->azureml-sdk) (1.16.0)\nRequirement already satisfied: wrapt<2,>=1.10 in /home/trusted-service-user/cluster-env/env/lib/python3.10/site-packages (from deprecated>=1.2.6->opentelemetry-api<3,>=1.9.0->mlflow-skinny==2.17.0->mlflow) (1.14.1)\nRequirement already satisfied: smmap<6,>=3.0.1 in /home/trusted-service-user/cluster-env/env/lib/python3.10/site-packages (from gitdb<5,>=4.0.1->gitpython<4,>=3.1.9->mlflow-skinny==2.17.0->mlflow) (5.0.0)\nRequirement already satisfied: pyasn1-modules>=0.2.1 in /home/trusted-service-user/cluster-env/env/lib/python3.10/site-packages (from google-auth~=2.0->databricks-sdk<1,>=0.20.0->mlflow-skinny==2.17.0->mlflow) (0.3.0)\nRequirement already satisfied: rsa<5,>=3.1.4 in /home/trusted-service-user/cluster-env/env/lib/python3.10/site-packages (from google-auth~=2.0->databricks-sdk<1,>=0.20.0->mlflow-skinny==2.17.0->mlflow) (4.9)\nRequirement already satisfied: oauthlib>=3.0.0 in /home/trusted-service-user/cluster-env/env/lib/python3.10/site-packages (from requests-oauthlib>=0.5.0->msrest<=0.7.1,>=0.5.1->azureml-core~=1.57.0->azureml-sdk) (3.2.2)\nRequirement already satisfied: attrs>=22.2.0 in /home/trusted-service-user/cluster-env/env/lib/python3.10/site-packages (from jsonschema->azureml-dataprep<5.2.0a,>=5.1.0a->azureml-dataset-runtime[fuse]~=1.57.0->azureml-sdk) (23.2.0)\nRequirement already satisfied: jsonschema-specifications>=2023.03.6 in /home/trusted-service-user/cluster-env/env/lib/python3.10/site-packages (from jsonschema->azureml-dataprep<5.2.0a,>=5.1.0a->azureml-dataset-runtime[fuse]~=1.57.0->azureml-sdk) (2023.12.1)\nRequirement already satisfied: referencing>=0.28.4 in /home/trusted-service-user/cluster-env/env/lib/python3.10/site-packages (from jsonschema->azureml-dataprep<5.2.0a,>=5.1.0a->azureml-dataset-runtime[fuse]~=1.57.0->azureml-sdk) (0.33.0)\nRequirement already satisfied: rpds-py>=0.7.1 in /home/trusted-service-user/cluster-env/env/lib/python3.10/site-packages (from jsonschema->azureml-dataprep<5.2.0a,>=5.1.0a->azureml-dataset-runtime[fuse]~=1.57.0->azureml-sdk) (0.18.0)\nRequirement already satisfied: pycparser in /home/trusted-service-user/cluster-env/env/lib/python3.10/site-packages (from cffi>=1.12->cryptography>=1.1.0->adal<=1.2.7,>=1.2.0->azureml-core~=1.57.0->azureml-sdk) (2.21)\nInstalling collected packages: aniso8601, Mako, gunicorn, graphql-core, deprecated, opentelemetry-api, graphql-relay, alembic, opentelemetry-semantic-conventions, graphene, databricks-sdk, opentelemetry-sdk, mlflow-skinny, azureml-train-restclients-hyperdrive, mlflow, azureml-core, azureml-telemetry, azureml-pipeline-core, azureml-train-core, azureml-dataset-runtime, azureml-automl-core, azureml-train-automl-client, azureml-pipeline-steps, azureml-pipeline, azureml-sdk\n  Attempting uninstall: mlflow-skinny\n    Found existing installation: mlflow-skinny 2.9.2\n    Uninstalling mlflow-skinny-2.9.2:\n      Successfully uninstalled mlflow-skinny-2.9.2\n  Attempting uninstall: azureml-core\n    Found existing installation: azureml-core 1.55.0\n    Uninstalling azureml-core-1.55.0:\n      Successfully uninstalled azureml-core-1.55.0\n  Attempting uninstall: azureml-telemetry\n    Found existing installation: azureml-telemetry 1.55.0\n    Uninstalling azureml-telemetry-1.55.0:\n      Successfully uninstalled azureml-telemetry-1.55.0\n  Attempting uninstall: azureml-dataset-runtime\n    Found existing installation: azureml-dataset-runtime 1.55.0\n    Uninstalling azureml-dataset-runtime-1.55.0:\n      Successfully uninstalled azureml-dataset-runtime-1.55.0\n\u001b[31mERROR: pip's dependency resolver does not currently take into account all the packages that are installed. This behaviour is the source of the following dependency conflicts.\nazureml-opendatasets 1.55.0 requires azureml-core~=1.55.0, but you have azureml-core 1.57.0.post3 which is incompatible.\nazureml-opendatasets 1.55.0 requires azureml-dataset-runtime[fuse,pandas]~=1.55.0, but you have azureml-dataset-runtime 1.57.0 which is incompatible.\nazureml-opendatasets 1.55.0 requires azureml-telemetry~=1.55.0, but you have azureml-telemetry 1.57.0 which is incompatible.\u001b[0m\u001b[31m\n\u001b[0mSuccessfully installed Mako-1.3.5 alembic-1.13.3 aniso8601-9.0.1 azureml-automl-core-1.57.0 azureml-core-1.57.0.post3 azureml-dataset-runtime-1.57.0 azureml-pipeline-1.57.0 azureml-pipeline-core-1.57.0 azureml-pipeline-steps-1.57.0 azureml-sdk-1.57.0 azureml-telemetry-1.57.0 azureml-train-automl-client-1.57.0 azureml-train-core-1.57.0 azureml-train-restclients-hyperdrive-1.57.0 databricks-sdk-0.34.0 deprecated-1.2.14 graphene-3.3 graphql-core-3.2.5 graphql-relay-3.2.0 gunicorn-23.0.0 mlflow-2.17.0 mlflow-skinny-2.17.0 opentelemetry-api-1.27.0 opentelemetry-sdk-1.27.0 opentelemetry-semantic-conventions-0.48b0\n"
          ]
        }
      ],
      "metadata": {
        "jupyter": {
          "source_hidden": false,
          "outputs_hidden": false
        },
        "nteract": {
          "transient": {
            "deleting": false
          }
        }
      },
      "source": [
        "!pip install mlflow azureml-sdk scikit-learn\r\n",
        ""
      ]
    },
    {
      "cell_type": "code",
      "execution_count": 3,
      "outputs": [
        {
          "output_type": "display_data",
          "data": {
            "application/vnd.livy.statement-meta+json": {
              "spark_pool": "sparkes",
              "statement_id": 4,
              "statement_ids": [
                4
              ],
              "state": "finished",
              "livy_statement_state": "available",
              "spark_jobs": null,
              "session_id": "0",
              "normalized_state": "finished",
              "queued_time": "2024-10-14T06:46:57.5626546Z",
              "session_start_time": null,
              "execution_start_time": "2024-10-14T06:46:57.7860962Z",
              "execution_finish_time": "2024-10-14T06:47:00.7199783Z",
              "parent_msg_id": "e95a7826-9870-4ba6-b6b0-32c60cd5bea8"
            },
            "text/plain": "StatementMeta(sparkes, 0, 4, Finished, Available, Finished)"
          },
          "metadata": {}
        },
        {
          "output_type": "stream",
          "name": "stderr",
          "text": [
            "2024/10/14 06:47:00 INFO mlflow.tracking.fluent: Experiment with name 'Synapse-MLflow-Tracking' does not exist. Creating a new experiment.\n"
          ]
        },
        {
          "output_type": "execute_result",
          "data": {
            "text/plain": "<Experiment: artifact_location='file:///mnt/var/hadoop/tmp/nm-local-dir/usercache/trusted-service-user/appcache/application_1728888002783_0001/container_1728888002783_0001_01_000001/mlruns/139907574266693331', creation_time=1728888420167, experiment_id='139907574266693331', last_update_time=1728888420167, lifecycle_stage='active', name='Synapse-MLflow-Tracking', tags={}>"
          },
          "execution_count": 9,
          "metadata": {}
        }
      ],
      "metadata": {
        "jupyter": {
          "source_hidden": false,
          "outputs_hidden": false
        },
        "nteract": {
          "transient": {
            "deleting": false
          }
        }
      },
      "source": [
        "import mlflow\r\n",
        "mlflow.set_experiment(\"Synapse-MLflow-Tracking\")\r\n",
        ""
      ]
    },
    {
      "cell_type": "code",
      "execution_count": 26,
      "outputs": [
        {
          "output_type": "display_data",
          "data": {
            "application/vnd.livy.statement-meta+json": {
              "spark_pool": "sparkes",
              "statement_id": 27,
              "statement_ids": [
                27
              ],
              "state": "finished",
              "livy_statement_state": "available",
              "spark_jobs": null,
              "session_id": "0",
              "normalized_state": "finished",
              "queued_time": "2024-10-14T07:30:58.8633696Z",
              "session_start_time": null,
              "execution_start_time": "2024-10-14T07:30:59.1275939Z",
              "execution_finish_time": "2024-10-14T07:32:00.6253612Z",
              "parent_msg_id": "65a607f7-54a4-4d46-b7e8-a3ebad96ddd8"
            },
            "text/plain": "StatementMeta(sparkes, 0, 27, Finished, Available, Finished)"
          },
          "metadata": {}
        },
        {
          "output_type": "stream",
          "name": "stderr",
          "text": [
            "2024/10/14 07:32:00 WARNING mlflow.utils.environment: Encountered an unexpected error while inferring pip requirements (model URI: /tmp/tmp7r23e2_8/model, flavor: spark). Fall back to return ['pyspark==3.4.1.5.3.20230713']. Set logging level to DEBUG to see the full traceback. \n2024/10/14 07:32:00 WARNING mlflow.models.model: Model logged without a signature and input example. Please set `input_example` parameter when logging the model to auto infer the model signature.\n"
          ]
        },
        {
          "output_type": "stream",
          "name": "stdout",
          "text": [
            "Model training and logging complete.\n"
          ]
        }
      ],
      "metadata": {
        "jupyter": {
          "source_hidden": false,
          "outputs_hidden": false
        },
        "nteract": {
          "transient": {
            "deleting": false
          }
        }
      },
      "source": [
        "from pyspark.ml.feature import StringIndexer, VectorAssembler, OneHotEncoder\r\n",
        "from pyspark.ml.classification import RandomForestClassifier\r\n",
        "from pyspark.ml.evaluation import MulticlassClassificationEvaluator\r\n",
        "from pyspark.ml import Pipeline\r\n",
        "import mlflow.spark\r\n",
        "\r\n",
        "# Assuming 'df' is your original DataFrame and DEALSIZE is your target variable\r\n",
        "# Identify categorical features and your target variable\r\n",
        "target_col = 'DEALSIZE'\r\n",
        "categorical_cols = [col for col in df.columns if col != target_col]  # Exclude target column\r\n",
        "\r\n",
        "# Step 1: Index the target column DEALSIZE\r\n",
        "indexer_target = StringIndexer(inputCol=target_col, outputCol=target_col + \"_indexed\")\r\n",
        "\r\n",
        "# Step 2: Index categorical features\r\n",
        "indexers = [StringIndexer(inputCol=col, outputCol=col + \"_indexed\") for col in categorical_cols]\r\n",
        "\r\n",
        "# Step 3: OneHotEncode the indexed categorical columns\r\n",
        "encoders = [OneHotEncoder(inputCol=col + \"_indexed\", outputCol=col + \"_encoded\") for col in categorical_cols]\r\n",
        "\r\n",
        "# Step 4: Create a feature vector using VectorAssembler\r\n",
        "feature_columns = [col + \"_encoded\" for col in categorical_cols]  # Use encoded columns\r\n",
        "assembler = VectorAssembler(inputCols=feature_columns, outputCol=\"features\")\r\n",
        "\r\n",
        "# Step 5: Create a pipeline that includes all transformations\r\n",
        "pipeline = Pipeline(stages=[indexer_target] + indexers + encoders + [assembler])\r\n",
        "\r\n",
        "# Step 6: Fit the pipeline to the DataFrame and transform it\r\n",
        "df_transformed = pipeline.fit(df).transform(df)\r\n",
        "\r\n",
        "# Step 7: Split data into training and testing sets\r\n",
        "train_data, test_data = df_transformed.randomSplit([0.8, 0.2], seed=1234)\r\n",
        "\r\n",
        "# Step 8: Train a RandomForest model\r\n",
        "rf = RandomForestClassifier(labelCol=target_col + \"_indexed\", featuresCol=\"features\", maxBins=3000)\r\n",
        "model = rf.fit(train_data)\r\n",
        "\r\n",
        "# Step 9: Make predictions\r\n",
        "predictions = model.transform(test_data)\r\n",
        "\r\n",
        "# Step 10: Evaluate the model\r\n",
        "evaluator = MulticlassClassificationEvaluator(labelCol=target_col + \"_indexed\", metricName=\"accuracy\")\r\n",
        "accuracy = evaluator.evaluate(predictions)\r\n",
        "\r\n",
        "# Step 11: Log parameters and metrics with MLflow\r\n",
        "with mlflow.start_run():\r\n",
        "    mlflow.log_param(\"n_estimators\", 100)\r\n",
        "    mlflow.log_metric(\"accuracy\", accuracy)\r\n",
        "    mlflow.spark.log_model(model, \"random_forest_model\")\r\n",
        "\r\n",
        "print(\"Model training and logging complete.\")\r\n",
        ""
      ]
    },
    {
      "cell_type": "code",
      "execution_count": 10,
      "outputs": [
        {
          "output_type": "display_data",
          "data": {
            "application/vnd.livy.statement-meta+json": {
              "spark_pool": "sparkes",
              "statement_id": 4,
              "statement_ids": [
                4
              ],
              "state": "finished",
              "livy_statement_state": "available",
              "spark_jobs": null,
              "session_id": "9",
              "normalized_state": "finished",
              "queued_time": "2024-10-16T16:48:20.5476541Z",
              "session_start_time": null,
              "execution_start_time": "2024-10-16T16:48:20.7324609Z",
              "execution_finish_time": "2024-10-16T16:48:20.9630526Z",
              "parent_msg_id": "9bce5516-8992-435d-956c-a1a8a23926ed"
            },
            "text/plain": "StatementMeta(sparkes, 9, 4, Finished, Available, Finished)"
          },
          "metadata": {}
        }
      ],
      "metadata": {
        "jupyter": {
          "source_hidden": false,
          "outputs_hidden": false
        },
        "nteract": {
          "transient": {
            "deleting": false
          }
        }
      },
      "source": [
        "import logging\r\n",
        "logging.getLogger(\"mlflow\").setLevel(logging.DEBUG)\r\n",
        ""
      ]
    },
    {
      "cell_type": "code",
      "execution_count": 9,
      "outputs": [
        {
          "output_type": "display_data",
          "data": {
            "application/vnd.livy.statement-meta+json": {
              "spark_pool": "sparkes",
              "statement_id": 3,
              "statement_ids": [
                3
              ],
              "state": "finished",
              "livy_statement_state": "available",
              "spark_jobs": null,
              "session_id": "9",
              "normalized_state": "finished",
              "queued_time": "2024-10-16T16:47:18.5548428Z",
              "session_start_time": null,
              "execution_start_time": "2024-10-16T16:47:18.7318387Z",
              "execution_finish_time": "2024-10-16T16:47:18.9240901Z",
              "parent_msg_id": "3c0e685c-de70-4a23-b918-0c6dbe16d30e"
            },
            "text/plain": "StatementMeta(sparkes, 9, 3, Finished, Available, Finished)"
          },
          "metadata": {}
        },
        {
          "output_type": "stream",
          "name": "stderr",
          "text": [
            "Successfully registered model 'Synapse-RF-Model'.\nCreated version '1' of model 'Synapse-RF-Model'.\n"
          ]
        },
        {
          "output_type": "execute_result",
          "data": {
            "text/plain": "<ModelVersion: aliases=[], creation_timestamp=1729097238828, current_stage='None', description=None, last_updated_timestamp=1729097238828, name='Synapse-RF-Model', run_id='bc8bc2be311046f7b1a1c81ead692da4', run_link=None, source='file:///mnt/var/hadoop/tmp/nm-local-dir/usercache/trusted-service-user/appcache/application_1729097055673_0001/container_1729097055673_0001_01_000001/mlruns/0/bc8bc2be311046f7b1a1c81ead692da4/artifacts/random_forest_model', status='READY', status_message=None, tags={}, user_id=None, version=1>"
          },
          "execution_count": 7,
          "metadata": {}
        }
      ],
      "metadata": {
        "jupyter": {
          "source_hidden": false,
          "outputs_hidden": false
        },
        "nteract": {
          "transient": {
            "deleting": false
          }
        }
      },
      "source": [
        "model_uri = \"runs:/bc8bc2be311046f7b1a1c81ead692da4/random_forest_model\"\r\n",
        "mlflow.register_model(model_uri, \"Synapse-RF-Model\")\r\n",
        ""
      ]
    },
    {
      "cell_type": "code",
      "execution_count": 8,
      "outputs": [
        {
          "output_type": "display_data",
          "data": {
            "application/vnd.livy.statement-meta+json": {
              "spark_pool": "sparkes",
              "statement_id": 2,
              "statement_ids": [
                2
              ],
              "state": "finished",
              "livy_statement_state": "available",
              "spark_jobs": null,
              "session_id": "9",
              "normalized_state": "finished",
              "queued_time": "2024-10-16T16:42:50.6300689Z",
              "session_start_time": "2024-10-16T16:42:50.6968618Z",
              "execution_start_time": "2024-10-16T16:46:12.460531Z",
              "execution_finish_time": "2024-10-16T16:46:18.134545Z",
              "parent_msg_id": "d03928f1-5a0d-4748-99e2-71e7378e682a"
            },
            "text/plain": "StatementMeta(sparkes, 9, 2, Finished, Available, Finished)"
          },
          "metadata": {}
        },
        {
          "output_type": "stream",
          "name": "stdout",
          "text": [
            "Run ID: bc8bc2be311046f7b1a1c81ead692da4\n"
          ]
        }
      ],
      "metadata": {
        "jupyter": {
          "source_hidden": false,
          "outputs_hidden": false
        },
        "nteract": {
          "transient": {
            "deleting": false
          }
        }
      },
      "source": [
        "import mlflow\r\n",
        "\r\n",
        "# Start an MLflow run\r\n",
        "with mlflow.start_run() as run:\r\n",
        "    # Get the run ID from the active run\r\n",
        "    run_id = run.info.run_id\r\n",
        "    print(\"Run ID:\", run_id)\r\n",
        "\r\n",
        "# You can now use `run_id` for logging metrics, params, or querying runs\r\n",
        ""
      ]
    },
    {
      "cell_type": "code",
      "execution_count": 19,
      "outputs": [
        {
          "output_type": "display_data",
          "data": {
            "application/vnd.livy.statement-meta+json": {
              "spark_pool": "sparkes",
              "statement_id": 13,
              "statement_ids": [
                13
              ],
              "state": "finished",
              "livy_statement_state": "available",
              "spark_jobs": null,
              "session_id": "9",
              "normalized_state": "finished",
              "queued_time": "2024-10-16T17:14:52.3497819Z",
              "session_start_time": null,
              "execution_start_time": "2024-10-16T17:14:52.5221565Z",
              "execution_finish_time": "2024-10-16T17:14:52.7103811Z",
              "parent_msg_id": "00762a02-d68f-4e04-95e9-f6c82151c3c3"
            },
            "text/plain": "StatementMeta(sparkes, 9, 13, Finished, Available, Finished)"
          },
          "metadata": {}
        },
        {
          "output_type": "error",
          "ename": "UserErrorException",
          "evalue": "UserErrorException:\n\tMessage: The workspace configuration file config.json, could not be found in /mnt/var/hadoop/tmp/nm-local-dir/usercache/trusted-service-user/appcache/application_1729097055673_0001/container_1729097055673_0001_01_000001/abfss:/fille@lakez.dfs.core.windows.net/Project/config.json or its parent directories. Please check whether the workspace configuration file exists, or provide the full path to the configuration file as an argument. You can download a configuration file for your workspace, via http://ml.azure.com and clicking on the name of your workspace in the right top.\n\tInnerException None\n\tErrorResponse \n{\n    \"error\": {\n        \"code\": \"UserError\",\n        \"message\": \"The workspace configuration file config.json, could not be found in /mnt/var/hadoop/tmp/nm-local-dir/usercache/trusted-service-user/appcache/application_1729097055673_0001/container_1729097055673_0001_01_000001/abfss:/fille@lakez.dfs.core.windows.net/Project/config.json or its parent directories. Please check whether the workspace configuration file exists, or provide the full path to the configuration file as an argument. You can download a configuration file for your workspace, via http://ml.azure.com and clicking on the name of your workspace in the right top.\"\n    }\n}",
          "traceback": [
            "\u001b[0;31m---------------------------------------------------------------------------\u001b[0m",
            "\u001b[0;31mUserErrorException\u001b[0m                        Traceback (most recent call last)",
            "Cell \u001b[0;32mIn[27], line 4\u001b[0m\n\u001b[1;32m      1\u001b[0m \u001b[38;5;28;01mfrom\u001b[39;00m \u001b[38;5;21;01mazureml\u001b[39;00m\u001b[38;5;21;01m.\u001b[39;00m\u001b[38;5;21;01mcore\u001b[39;00m \u001b[38;5;28;01mimport\u001b[39;00m Workspace\n\u001b[1;32m      3\u001b[0m \u001b[38;5;66;03m# Provide the full path to the config.json file\u001b[39;00m\n\u001b[0;32m----> 4\u001b[0m ws \u001b[38;5;241m=\u001b[39m \u001b[43mWorkspace\u001b[49m\u001b[38;5;241;43m.\u001b[39;49m\u001b[43mfrom_config\u001b[49m\u001b[43m(\u001b[49m\u001b[43mpath\u001b[49m\u001b[38;5;241;43m=\u001b[39;49m\u001b[38;5;124;43m'\u001b[39;49m\u001b[38;5;124;43mabfss://fille@lakez.dfs.core.windows.net/Project/config.json\u001b[39;49m\u001b[38;5;124;43m'\u001b[39;49m\u001b[43m)\u001b[49m\n\u001b[1;32m      8\u001b[0m \u001b[38;5;28mprint\u001b[39m(\u001b[38;5;124m\"\u001b[39m\u001b[38;5;124mWorkspace name:\u001b[39m\u001b[38;5;124m\"\u001b[39m, ws\u001b[38;5;241m.\u001b[39mname)\n",
            "File \u001b[0;32m~/cluster-env/env/lib/python3.10/site-packages/azureml/core/workspace.py:280\u001b[0m, in \u001b[0;36mWorkspace.from_config\u001b[0;34m(path, auth, _logger, _file_name)\u001b[0m\n\u001b[1;32m    277\u001b[0m             \u001b[38;5;28;01mbreak\u001b[39;00m\n\u001b[1;32m    279\u001b[0m     \u001b[38;5;28;01mif\u001b[39;00m \u001b[38;5;129;01mnot\u001b[39;00m found_path:\n\u001b[0;32m--> 280\u001b[0m         \u001b[38;5;28;01mraise\u001b[39;00m UserErrorException(\n\u001b[1;32m    281\u001b[0m             \u001b[38;5;124m\"\u001b[39m\u001b[38;5;124mThe workspace configuration file config.json, could not be found in \u001b[39m\u001b[38;5;132;01m{}\u001b[39;00m\u001b[38;5;124m or its parent \u001b[39m\u001b[38;5;124m\"\u001b[39m\n\u001b[1;32m    282\u001b[0m             \u001b[38;5;124m\"\u001b[39m\u001b[38;5;124mdirectories. Please check whether the workspace configuration file exists, or provide \u001b[39m\u001b[38;5;124m\"\u001b[39m\n\u001b[1;32m    283\u001b[0m             \u001b[38;5;124m\"\u001b[39m\u001b[38;5;124mthe full path to the configuration file as an argument. You can download a configuration \u001b[39m\u001b[38;5;124m\"\u001b[39m\n\u001b[1;32m    284\u001b[0m             \u001b[38;5;124m\"\u001b[39m\u001b[38;5;124mfile for your workspace, via http://ml.azure.com and clicking on the name of your \u001b[39m\u001b[38;5;124m\"\u001b[39m\n\u001b[1;32m    285\u001b[0m             \u001b[38;5;124m\"\u001b[39m\u001b[38;5;124mworkspace in the right top.\u001b[39m\u001b[38;5;124m\"\u001b[39m\u001b[38;5;241m.\u001b[39mformat(\n\u001b[1;32m    286\u001b[0m                 normalized_path))\n\u001b[1;32m    288\u001b[0m subscription_id, resource_group, workspace_name \u001b[38;5;241m=\u001b[39m project_info\u001b[38;5;241m.\u001b[39mget_workspace_info(\n\u001b[1;32m    289\u001b[0m     found_path)\n\u001b[1;32m    291\u001b[0m _logger\u001b[38;5;241m.\u001b[39minfo(\u001b[38;5;124m'\u001b[39m\u001b[38;5;124mFound the config file in: \u001b[39m\u001b[38;5;132;01m%s\u001b[39;00m\u001b[38;5;124m'\u001b[39m, found_path)\n",
            "\u001b[0;31mUserErrorException\u001b[0m: UserErrorException:\n\tMessage: The workspace configuration file config.json, could not be found in /mnt/var/hadoop/tmp/nm-local-dir/usercache/trusted-service-user/appcache/application_1729097055673_0001/container_1729097055673_0001_01_000001/abfss:/fille@lakez.dfs.core.windows.net/Project/config.json or its parent directories. Please check whether the workspace configuration file exists, or provide the full path to the configuration file as an argument. You can download a configuration file for your workspace, via http://ml.azure.com and clicking on the name of your workspace in the right top.\n\tInnerException None\n\tErrorResponse \n{\n    \"error\": {\n        \"code\": \"UserError\",\n        \"message\": \"The workspace configuration file config.json, could not be found in /mnt/var/hadoop/tmp/nm-local-dir/usercache/trusted-service-user/appcache/application_1729097055673_0001/container_1729097055673_0001_01_000001/abfss:/fille@lakez.dfs.core.windows.net/Project/config.json or its parent directories. Please check whether the workspace configuration file exists, or provide the full path to the configuration file as an argument. You can download a configuration file for your workspace, via http://ml.azure.com and clicking on the name of your workspace in the right top.\"\n    }\n}"
          ]
        }
      ],
      "metadata": {
        "jupyter": {
          "source_hidden": false,
          "outputs_hidden": false
        },
        "nteract": {
          "transient": {
            "deleting": false
          }
        }
      },
      "source": [
        "from azureml.core import Workspace\r\n",
        "\r\n",
        "# Provide the full path to the config.json file\r\n",
        "ws = Workspace.from_config(path='abfss://fille@lakez.dfs.core.windows.net/Project/config.json')\r\n",
        "\r\n",
        "\r\n",
        "\r\n",
        "print(\"Workspace name:\", ws.name)\r\n",
        ""
      ]
    },
    {
      "cell_type": "code",
      "execution_count": 11,
      "outputs": [
        {
          "output_type": "display_data",
          "data": {
            "application/vnd.livy.statement-meta+json": {
              "spark_pool": "sparkes",
              "statement_id": 5,
              "statement_ids": [
                5
              ],
              "state": "finished",
              "livy_statement_state": "available",
              "spark_jobs": null,
              "session_id": "9",
              "normalized_state": "finished",
              "queued_time": "2024-10-16T16:51:06.9964845Z",
              "session_start_time": null,
              "execution_start_time": "2024-10-16T16:51:07.1991548Z",
              "execution_finish_time": "2024-10-16T16:51:20.1643793Z",
              "parent_msg_id": "876150f7-dfa7-453b-8f94-4df8519a3fae"
            },
            "text/plain": "StatementMeta(sparkes, 9, 5, Finished, Available, Finished)"
          },
          "metadata": {}
        },
        {
          "output_type": "error",
          "ename": "UserErrorException",
          "evalue": "UserErrorException:\n\tMessage: The workspace configuration file config.json, could not be found in /mnt/var/hadoop/tmp/nm-local-dir/usercache/trusted-service-user/appcache/application_1729097055673_0001/container_1729097055673_0001_01_000001 or its parent directories. Please check whether the workspace configuration file exists, or provide the full path to the configuration file as an argument. You can download a configuration file for your workspace, via http://ml.azure.com and clicking on the name of your workspace in the right top.\n\tInnerException None\n\tErrorResponse \n{\n    \"error\": {\n        \"code\": \"UserError\",\n        \"message\": \"The workspace configuration file config.json, could not be found in /mnt/var/hadoop/tmp/nm-local-dir/usercache/trusted-service-user/appcache/application_1729097055673_0001/container_1729097055673_0001_01_000001 or its parent directories. Please check whether the workspace configuration file exists, or provide the full path to the configuration file as an argument. You can download a configuration file for your workspace, via http://ml.azure.com and clicking on the name of your workspace in the right top.\"\n    }\n}",
          "traceback": [
            "\u001b[0;31m---------------------------------------------------------------------------\u001b[0m",
            "\u001b[0;31mUserErrorException\u001b[0m                        Traceback (most recent call last)",
            "Cell \u001b[0;32mIn[11], line 3\u001b[0m\n\u001b[1;32m      1\u001b[0m \u001b[38;5;28;01mfrom\u001b[39;00m \u001b[38;5;21;01mazureml\u001b[39;00m\u001b[38;5;21;01m.\u001b[39;00m\u001b[38;5;21;01mcore\u001b[39;00m \u001b[38;5;28;01mimport\u001b[39;00m Workspace, Model\n\u001b[0;32m----> 3\u001b[0m ws \u001b[38;5;241m=\u001b[39m \u001b[43mWorkspace\u001b[49m\u001b[38;5;241;43m.\u001b[39;49m\u001b[43mfrom_config\u001b[49m\u001b[43m(\u001b[49m\u001b[43m)\u001b[49m\n\u001b[1;32m      4\u001b[0m model \u001b[38;5;241m=\u001b[39m Model\u001b[38;5;241m.\u001b[39mregister(model_path\u001b[38;5;241m=\u001b[39m\u001b[38;5;124m\"\u001b[39m\u001b[38;5;124mmodel.pkl\u001b[39m\u001b[38;5;124m\"\u001b[39m,\n\u001b[1;32m      5\u001b[0m                        model_name\u001b[38;5;241m=\u001b[39m\u001b[38;5;124m\"\u001b[39m\u001b[38;5;124mmy_model\u001b[39m\u001b[38;5;124m\"\u001b[39m,\n\u001b[1;32m      6\u001b[0m                        workspace\u001b[38;5;241m=\u001b[39mws)\n",
            "File \u001b[0;32m~/cluster-env/env/lib/python3.10/site-packages/azureml/core/workspace.py:280\u001b[0m, in \u001b[0;36mWorkspace.from_config\u001b[0;34m(path, auth, _logger, _file_name)\u001b[0m\n\u001b[1;32m    277\u001b[0m             \u001b[38;5;28;01mbreak\u001b[39;00m\n\u001b[1;32m    279\u001b[0m     \u001b[38;5;28;01mif\u001b[39;00m \u001b[38;5;129;01mnot\u001b[39;00m found_path:\n\u001b[0;32m--> 280\u001b[0m         \u001b[38;5;28;01mraise\u001b[39;00m UserErrorException(\n\u001b[1;32m    281\u001b[0m             \u001b[38;5;124m\"\u001b[39m\u001b[38;5;124mThe workspace configuration file config.json, could not be found in \u001b[39m\u001b[38;5;132;01m{}\u001b[39;00m\u001b[38;5;124m or its parent \u001b[39m\u001b[38;5;124m\"\u001b[39m\n\u001b[1;32m    282\u001b[0m             \u001b[38;5;124m\"\u001b[39m\u001b[38;5;124mdirectories. Please check whether the workspace configuration file exists, or provide \u001b[39m\u001b[38;5;124m\"\u001b[39m\n\u001b[1;32m    283\u001b[0m             \u001b[38;5;124m\"\u001b[39m\u001b[38;5;124mthe full path to the configuration file as an argument. You can download a configuration \u001b[39m\u001b[38;5;124m\"\u001b[39m\n\u001b[1;32m    284\u001b[0m             \u001b[38;5;124m\"\u001b[39m\u001b[38;5;124mfile for your workspace, via http://ml.azure.com and clicking on the name of your \u001b[39m\u001b[38;5;124m\"\u001b[39m\n\u001b[1;32m    285\u001b[0m             \u001b[38;5;124m\"\u001b[39m\u001b[38;5;124mworkspace in the right top.\u001b[39m\u001b[38;5;124m\"\u001b[39m\u001b[38;5;241m.\u001b[39mformat(\n\u001b[1;32m    286\u001b[0m                 normalized_path))\n\u001b[1;32m    288\u001b[0m subscription_id, resource_group, workspace_name \u001b[38;5;241m=\u001b[39m project_info\u001b[38;5;241m.\u001b[39mget_workspace_info(\n\u001b[1;32m    289\u001b[0m     found_path)\n\u001b[1;32m    291\u001b[0m _logger\u001b[38;5;241m.\u001b[39minfo(\u001b[38;5;124m'\u001b[39m\u001b[38;5;124mFound the config file in: \u001b[39m\u001b[38;5;132;01m%s\u001b[39;00m\u001b[38;5;124m'\u001b[39m, found_path)\n",
            "\u001b[0;31mUserErrorException\u001b[0m: UserErrorException:\n\tMessage: The workspace configuration file config.json, could not be found in /mnt/var/hadoop/tmp/nm-local-dir/usercache/trusted-service-user/appcache/application_1729097055673_0001/container_1729097055673_0001_01_000001 or its parent directories. Please check whether the workspace configuration file exists, or provide the full path to the configuration file as an argument. You can download a configuration file for your workspace, via http://ml.azure.com and clicking on the name of your workspace in the right top.\n\tInnerException None\n\tErrorResponse \n{\n    \"error\": {\n        \"code\": \"UserError\",\n        \"message\": \"The workspace configuration file config.json, could not be found in /mnt/var/hadoop/tmp/nm-local-dir/usercache/trusted-service-user/appcache/application_1729097055673_0001/container_1729097055673_0001_01_000001 or its parent directories. Please check whether the workspace configuration file exists, or provide the full path to the configuration file as an argument. You can download a configuration file for your workspace, via http://ml.azure.com and clicking on the name of your workspace in the right top.\"\n    }\n}"
          ]
        }
      ],
      "metadata": {
        "jupyter": {
          "source_hidden": false,
          "outputs_hidden": false
        },
        "nteract": {
          "transient": {
            "deleting": false
          }
        }
      },
      "source": [
        "from azureml.core import Workspace, Model\r\n",
        "\r\n",
        "ws = Workspace.from_config()\r\n",
        "model = Model.register(model_path=\"model.pkl\",\r\n",
        "                       model_name=\"my_model\",\r\n",
        "                       workspace=ws)\r\n",
        ""
      ]
    }
  ]
}